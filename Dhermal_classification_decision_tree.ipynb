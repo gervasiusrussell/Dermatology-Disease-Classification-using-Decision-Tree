{
 "cells": [
  {
   "cell_type": "code",
   "execution_count": 2,
   "metadata": {
    "id": "FHD37HAQMPso"
   },
   "outputs": [],
   "source": [
    "import pandas as pd\n",
    "import numpy as np\n",
    "import matplotlib.pyplot as plt"
   ]
  },
  {
   "cell_type": "markdown",
   "metadata": {
    "id": "8tGWrCJsWUcK"
   },
   "source": [
    "# Read Data"
   ]
  },
  {
   "cell_type": "code",
   "execution_count": 3,
   "metadata": {
    "id": "JboMpk_uMPsr"
   },
   "outputs": [],
   "source": [
    "df=pd.read_csv('dermatology_database_1.csv')"
   ]
  },
  {
   "cell_type": "code",
   "execution_count": 4,
   "metadata": {
    "colab": {
     "base_uri": "https://localhost:8080/",
     "height": 256
    },
    "id": "DzgAMWU8MPss",
    "outputId": "0fcc7596-a909-4f43-f247-4977a98d4324"
   },
   "outputs": [
    {
     "data": {
      "text/html": [
       "<div>\n",
       "<style scoped>\n",
       "    .dataframe tbody tr th:only-of-type {\n",
       "        vertical-align: middle;\n",
       "    }\n",
       "\n",
       "    .dataframe tbody tr th {\n",
       "        vertical-align: top;\n",
       "    }\n",
       "\n",
       "    .dataframe thead th {\n",
       "        text-align: right;\n",
       "    }\n",
       "</style>\n",
       "<table border=\"1\" class=\"dataframe\">\n",
       "  <thead>\n",
       "    <tr style=\"text-align: right;\">\n",
       "      <th></th>\n",
       "      <th>erythema</th>\n",
       "      <th>scaling</th>\n",
       "      <th>definite_borders</th>\n",
       "      <th>itching</th>\n",
       "      <th>koebner_phenomenon</th>\n",
       "      <th>polygonal_papules</th>\n",
       "      <th>follicular_papules</th>\n",
       "      <th>oral_mucosal_involvement</th>\n",
       "      <th>knee_and_elbow_involvement</th>\n",
       "      <th>scalp_involvement</th>\n",
       "      <th>...</th>\n",
       "      <th>disappearance_granular_layer</th>\n",
       "      <th>vacuolisation_damage_basal_layer</th>\n",
       "      <th>spongiosis</th>\n",
       "      <th>saw_tooth_appearance_retes</th>\n",
       "      <th>follicular_horn_plug</th>\n",
       "      <th>perifollicular_parakeratosis</th>\n",
       "      <th>inflammatory_mononuclear_infiltrate</th>\n",
       "      <th>band_like_infiltrate</th>\n",
       "      <th>age</th>\n",
       "      <th>class</th>\n",
       "    </tr>\n",
       "  </thead>\n",
       "  <tbody>\n",
       "    <tr>\n",
       "      <th>0</th>\n",
       "      <td>2</td>\n",
       "      <td>2</td>\n",
       "      <td>0</td>\n",
       "      <td>3</td>\n",
       "      <td>0</td>\n",
       "      <td>0</td>\n",
       "      <td>0</td>\n",
       "      <td>0</td>\n",
       "      <td>1</td>\n",
       "      <td>0</td>\n",
       "      <td>...</td>\n",
       "      <td>0</td>\n",
       "      <td>0</td>\n",
       "      <td>3</td>\n",
       "      <td>0</td>\n",
       "      <td>0</td>\n",
       "      <td>0</td>\n",
       "      <td>1</td>\n",
       "      <td>0</td>\n",
       "      <td>55</td>\n",
       "      <td>2</td>\n",
       "    </tr>\n",
       "    <tr>\n",
       "      <th>1</th>\n",
       "      <td>3</td>\n",
       "      <td>3</td>\n",
       "      <td>3</td>\n",
       "      <td>2</td>\n",
       "      <td>1</td>\n",
       "      <td>0</td>\n",
       "      <td>0</td>\n",
       "      <td>0</td>\n",
       "      <td>1</td>\n",
       "      <td>1</td>\n",
       "      <td>...</td>\n",
       "      <td>0</td>\n",
       "      <td>0</td>\n",
       "      <td>0</td>\n",
       "      <td>0</td>\n",
       "      <td>0</td>\n",
       "      <td>0</td>\n",
       "      <td>1</td>\n",
       "      <td>0</td>\n",
       "      <td>8</td>\n",
       "      <td>1</td>\n",
       "    </tr>\n",
       "    <tr>\n",
       "      <th>2</th>\n",
       "      <td>2</td>\n",
       "      <td>1</td>\n",
       "      <td>2</td>\n",
       "      <td>3</td>\n",
       "      <td>1</td>\n",
       "      <td>3</td>\n",
       "      <td>0</td>\n",
       "      <td>3</td>\n",
       "      <td>0</td>\n",
       "      <td>0</td>\n",
       "      <td>...</td>\n",
       "      <td>0</td>\n",
       "      <td>2</td>\n",
       "      <td>3</td>\n",
       "      <td>2</td>\n",
       "      <td>0</td>\n",
       "      <td>0</td>\n",
       "      <td>2</td>\n",
       "      <td>3</td>\n",
       "      <td>26</td>\n",
       "      <td>3</td>\n",
       "    </tr>\n",
       "    <tr>\n",
       "      <th>3</th>\n",
       "      <td>2</td>\n",
       "      <td>2</td>\n",
       "      <td>2</td>\n",
       "      <td>0</td>\n",
       "      <td>0</td>\n",
       "      <td>0</td>\n",
       "      <td>0</td>\n",
       "      <td>0</td>\n",
       "      <td>3</td>\n",
       "      <td>2</td>\n",
       "      <td>...</td>\n",
       "      <td>3</td>\n",
       "      <td>0</td>\n",
       "      <td>0</td>\n",
       "      <td>0</td>\n",
       "      <td>0</td>\n",
       "      <td>0</td>\n",
       "      <td>3</td>\n",
       "      <td>0</td>\n",
       "      <td>40</td>\n",
       "      <td>1</td>\n",
       "    </tr>\n",
       "    <tr>\n",
       "      <th>4</th>\n",
       "      <td>2</td>\n",
       "      <td>3</td>\n",
       "      <td>2</td>\n",
       "      <td>2</td>\n",
       "      <td>2</td>\n",
       "      <td>2</td>\n",
       "      <td>0</td>\n",
       "      <td>2</td>\n",
       "      <td>0</td>\n",
       "      <td>0</td>\n",
       "      <td>...</td>\n",
       "      <td>2</td>\n",
       "      <td>3</td>\n",
       "      <td>2</td>\n",
       "      <td>3</td>\n",
       "      <td>0</td>\n",
       "      <td>0</td>\n",
       "      <td>2</td>\n",
       "      <td>3</td>\n",
       "      <td>45</td>\n",
       "      <td>3</td>\n",
       "    </tr>\n",
       "  </tbody>\n",
       "</table>\n",
       "<p>5 rows × 35 columns</p>\n",
       "</div>"
      ],
      "text/plain": [
       "   erythema  scaling  definite_borders  itching  koebner_phenomenon  \\\n",
       "0         2        2                 0        3                   0   \n",
       "1         3        3                 3        2                   1   \n",
       "2         2        1                 2        3                   1   \n",
       "3         2        2                 2        0                   0   \n",
       "4         2        3                 2        2                   2   \n",
       "\n",
       "   polygonal_papules  follicular_papules  oral_mucosal_involvement  \\\n",
       "0                  0                   0                         0   \n",
       "1                  0                   0                         0   \n",
       "2                  3                   0                         3   \n",
       "3                  0                   0                         0   \n",
       "4                  2                   0                         2   \n",
       "\n",
       "   knee_and_elbow_involvement  scalp_involvement  ...  \\\n",
       "0                           1                  0  ...   \n",
       "1                           1                  1  ...   \n",
       "2                           0                  0  ...   \n",
       "3                           3                  2  ...   \n",
       "4                           0                  0  ...   \n",
       "\n",
       "   disappearance_granular_layer  vacuolisation_damage_basal_layer  spongiosis  \\\n",
       "0                             0                                 0           3   \n",
       "1                             0                                 0           0   \n",
       "2                             0                                 2           3   \n",
       "3                             3                                 0           0   \n",
       "4                             2                                 3           2   \n",
       "\n",
       "   saw_tooth_appearance_retes  follicular_horn_plug  \\\n",
       "0                           0                     0   \n",
       "1                           0                     0   \n",
       "2                           2                     0   \n",
       "3                           0                     0   \n",
       "4                           3                     0   \n",
       "\n",
       "   perifollicular_parakeratosis  inflammatory_mononuclear_infiltrate  \\\n",
       "0                             0                                    1   \n",
       "1                             0                                    1   \n",
       "2                             0                                    2   \n",
       "3                             0                                    3   \n",
       "4                             0                                    2   \n",
       "\n",
       "   band_like_infiltrate  age  class  \n",
       "0                     0   55      2  \n",
       "1                     0    8      1  \n",
       "2                     3   26      3  \n",
       "3                     0   40      1  \n",
       "4                     3   45      3  \n",
       "\n",
       "[5 rows x 35 columns]"
      ]
     },
     "execution_count": 4,
     "metadata": {},
     "output_type": "execute_result"
    }
   ],
   "source": [
    "df.head()"
   ]
  },
  {
   "cell_type": "markdown",
   "metadata": {
    "id": "FW6iDuLYkWwC"
   },
   "source": [
    "#Check Data Condition"
   ]
  },
  {
   "cell_type": "code",
   "execution_count": 5,
   "metadata": {
    "colab": {
     "base_uri": "https://localhost:8080/"
    },
    "id": "Gwzfs-X3MPst",
    "outputId": "79a28e51-18f1-4165-9c62-d4470548557b"
   },
   "outputs": [
    {
     "data": {
      "text/plain": [
       "(366, 35)"
      ]
     },
     "execution_count": 5,
     "metadata": {},
     "output_type": "execute_result"
    }
   ],
   "source": [
    "df.shape"
   ]
  },
  {
   "cell_type": "code",
   "execution_count": 6,
   "metadata": {
    "colab": {
     "base_uri": "https://localhost:8080/"
    },
    "id": "0zr5TWNQMPsu",
    "outputId": "f4dc4813-60ac-4567-8924-1b848550ed6b"
   },
   "outputs": [
    {
     "data": {
      "text/plain": [
       "Index(['erythema', 'scaling', 'definite_borders', 'itching',\n",
       "       'koebner_phenomenon', 'polygonal_papules', 'follicular_papules',\n",
       "       'oral_mucosal_involvement', 'knee_and_elbow_involvement',\n",
       "       'scalp_involvement', 'family_history', 'melanin_incontinence',\n",
       "       'eosinophils_infiltrate', 'PNL_infiltrate', 'fibrosis_papillary_dermis',\n",
       "       'exocytosis', 'acanthosis', 'hyperkeratosis', 'parakeratosis',\n",
       "       'clubbing_rete_ridges', 'elongation_rete_ridges',\n",
       "       'thinning_suprapapillary_epidermis', 'spongiform_pustule',\n",
       "       'munro_microabcess', 'focal_hypergranulosis',\n",
       "       'disappearance_granular_layer', 'vacuolisation_damage_basal_layer',\n",
       "       'spongiosis', 'saw_tooth_appearance_retes', 'follicular_horn_plug',\n",
       "       'perifollicular_parakeratosis', 'inflammatory_mononuclear_infiltrate',\n",
       "       'band_like_infiltrate', 'age', 'class'],\n",
       "      dtype='object')"
      ]
     },
     "execution_count": 6,
     "metadata": {},
     "output_type": "execute_result"
    }
   ],
   "source": [
    "df.columns"
   ]
  },
  {
   "cell_type": "code",
   "execution_count": 7,
   "metadata": {
    "colab": {
     "base_uri": "https://localhost:8080/"
    },
    "id": "V1IkX7uFMPsu",
    "outputId": "bbd76cbb-ed71-43d2-c242-bce67dbf1280"
   },
   "outputs": [
    {
     "name": "stdout",
     "output_type": "stream",
     "text": [
      "<class 'pandas.core.frame.DataFrame'>\n",
      "RangeIndex: 366 entries, 0 to 365\n",
      "Data columns (total 35 columns):\n",
      " #   Column                               Non-Null Count  Dtype \n",
      "---  ------                               --------------  ----- \n",
      " 0   erythema                             366 non-null    int64 \n",
      " 1   scaling                              366 non-null    int64 \n",
      " 2   definite_borders                     366 non-null    int64 \n",
      " 3   itching                              366 non-null    int64 \n",
      " 4   koebner_phenomenon                   366 non-null    int64 \n",
      " 5   polygonal_papules                    366 non-null    int64 \n",
      " 6   follicular_papules                   366 non-null    int64 \n",
      " 7   oral_mucosal_involvement             366 non-null    int64 \n",
      " 8   knee_and_elbow_involvement           366 non-null    int64 \n",
      " 9   scalp_involvement                    366 non-null    int64 \n",
      " 10  family_history                       366 non-null    int64 \n",
      " 11  melanin_incontinence                 366 non-null    int64 \n",
      " 12  eosinophils_infiltrate               366 non-null    int64 \n",
      " 13  PNL_infiltrate                       366 non-null    int64 \n",
      " 14  fibrosis_papillary_dermis            366 non-null    int64 \n",
      " 15  exocytosis                           366 non-null    int64 \n",
      " 16  acanthosis                           366 non-null    int64 \n",
      " 17  hyperkeratosis                       366 non-null    int64 \n",
      " 18  parakeratosis                        366 non-null    int64 \n",
      " 19  clubbing_rete_ridges                 366 non-null    int64 \n",
      " 20  elongation_rete_ridges               366 non-null    int64 \n",
      " 21  thinning_suprapapillary_epidermis    366 non-null    int64 \n",
      " 22  spongiform_pustule                   366 non-null    int64 \n",
      " 23  munro_microabcess                    366 non-null    int64 \n",
      " 24  focal_hypergranulosis                366 non-null    int64 \n",
      " 25  disappearance_granular_layer         366 non-null    int64 \n",
      " 26  vacuolisation_damage_basal_layer     366 non-null    int64 \n",
      " 27  spongiosis                           366 non-null    int64 \n",
      " 28  saw_tooth_appearance_retes           366 non-null    int64 \n",
      " 29  follicular_horn_plug                 366 non-null    int64 \n",
      " 30  perifollicular_parakeratosis         366 non-null    int64 \n",
      " 31  inflammatory_mononuclear_infiltrate  366 non-null    int64 \n",
      " 32  band_like_infiltrate                 366 non-null    int64 \n",
      " 33  age                                  366 non-null    object\n",
      " 34  class                                366 non-null    int64 \n",
      "dtypes: int64(34), object(1)\n",
      "memory usage: 100.2+ KB\n"
     ]
    }
   ],
   "source": [
    "df.info()"
   ]
  },
  {
   "cell_type": "markdown",
   "metadata": {
    "id": "WTiMCu4Knsvl"
   },
   "source": [
    "## Check Data Consistency"
   ]
  },
  {
   "cell_type": "code",
   "execution_count": 8,
   "metadata": {
    "colab": {
     "base_uri": "https://localhost:8080/"
    },
    "id": "vj9_2Rmcltn7",
    "outputId": "0fe47fb3-c73f-4863-9c13-636c9fc15232"
   },
   "outputs": [
    {
     "data": {
      "text/plain": [
       "array(['55', '8', '26', '40', '45', '41', '18', '57', '22', '30', '20',\n",
       "       '21', '10', '65', '38', '23', '17', '51', '42', '44', '33', '43',\n",
       "       '50', '34', '?', '15', '46', '62', '35', '48', '12', '52', '60',\n",
       "       '32', '19', '29', '25', '36', '13', '27', '31', '28', '64', '39',\n",
       "       '47', '16', '0', '7', '70', '37', '61', '67', '56', '53', '24',\n",
       "       '58', '49', '63', '68', '9', '75'], dtype=object)"
      ]
     },
     "execution_count": 8,
     "metadata": {},
     "output_type": "execute_result"
    }
   ],
   "source": [
    "df['age'].unique()"
   ]
  },
  {
   "cell_type": "markdown",
   "metadata": {
    "id": "Y2Bsa8ygMPsw"
   },
   "source": [
    "#**Split Data into Train and Test Data**"
   ]
  },
  {
   "cell_type": "code",
   "execution_count": 9,
   "metadata": {
    "id": "dx1FVk4rMPsx"
   },
   "outputs": [],
   "source": [
    "input_df=df.drop('class',axis=1)\n",
    "output_df=df['class']"
   ]
  },
  {
   "cell_type": "code",
   "execution_count": 10,
   "metadata": {
    "id": "rBvWLrzTMPsy"
   },
   "outputs": [],
   "source": [
    "from sklearn.model_selection import train_test_split\n",
    "x_train, x_test, y_train, y_test = train_test_split(input_df, output_df, test_size = 0.2, random_state = 0) # 20% test size sisanya train"
   ]
  },
  {
   "cell_type": "code",
   "execution_count": 11,
   "metadata": {
    "colab": {
     "base_uri": "https://localhost:8080/"
    },
    "id": "3Ar58SnoU7y1",
    "outputId": "9c933527-cf06-4971-e405-524265f4c279"
   },
   "outputs": [
    {
     "name": "stdout",
     "output_type": "stream",
     "text": [
      "shape X_train:  (292, 34)\n",
      "shape X_test:  (74, 34)\n",
      "shape y_train:  (292,)\n",
      "shape y_test:  (74,)\n"
     ]
    }
   ],
   "source": [
    "print(\"shape X_train: \",x_train.shape)\n",
    "print(\"shape X_test: \",x_test.shape)\n",
    "print(\"shape y_train: \",y_train.shape)\n",
    "print(\"shape y_test: \",y_test.shape)"
   ]
  },
  {
   "cell_type": "markdown",
   "metadata": {
    "id": "jRcengCsWPOr"
   },
   "source": [
    "# Cleansing Data"
   ]
  },
  {
   "cell_type": "markdown",
   "metadata": {
    "id": "gmk2wHdVbtjG"
   },
   "source": [
    "## Casting data type"
   ]
  },
  {
   "cell_type": "code",
   "execution_count": 12,
   "metadata": {
    "id": "dglHOz-WMPsy"
   },
   "outputs": [],
   "source": [
    "x_train['age'] = pd.to_numeric(x_train['age'], errors='coerce') #paksa jadi null -> errors = coerce maka row jadi 292\n",
    "x_test['age'] = pd.to_numeric(x_train['age'], errors='coerce')"
   ]
  },
  {
   "cell_type": "code",
   "execution_count": 13,
   "metadata": {
    "colab": {
     "base_uri": "https://localhost:8080/"
    },
    "id": "Oq7A89SOMPsz",
    "outputId": "bedd55e3-dd36-40d4-d6d7-09b7a48cdfbb"
   },
   "outputs": [
    {
     "name": "stdout",
     "output_type": "stream",
     "text": [
      "<class 'pandas.core.frame.DataFrame'>\n",
      "Int64Index: 292 entries, 63 to 172\n",
      "Data columns (total 34 columns):\n",
      " #   Column                               Non-Null Count  Dtype  \n",
      "---  ------                               --------------  -----  \n",
      " 0   erythema                             292 non-null    int64  \n",
      " 1   scaling                              292 non-null    int64  \n",
      " 2   definite_borders                     292 non-null    int64  \n",
      " 3   itching                              292 non-null    int64  \n",
      " 4   koebner_phenomenon                   292 non-null    int64  \n",
      " 5   polygonal_papules                    292 non-null    int64  \n",
      " 6   follicular_papules                   292 non-null    int64  \n",
      " 7   oral_mucosal_involvement             292 non-null    int64  \n",
      " 8   knee_and_elbow_involvement           292 non-null    int64  \n",
      " 9   scalp_involvement                    292 non-null    int64  \n",
      " 10  family_history                       292 non-null    int64  \n",
      " 11  melanin_incontinence                 292 non-null    int64  \n",
      " 12  eosinophils_infiltrate               292 non-null    int64  \n",
      " 13  PNL_infiltrate                       292 non-null    int64  \n",
      " 14  fibrosis_papillary_dermis            292 non-null    int64  \n",
      " 15  exocytosis                           292 non-null    int64  \n",
      " 16  acanthosis                           292 non-null    int64  \n",
      " 17  hyperkeratosis                       292 non-null    int64  \n",
      " 18  parakeratosis                        292 non-null    int64  \n",
      " 19  clubbing_rete_ridges                 292 non-null    int64  \n",
      " 20  elongation_rete_ridges               292 non-null    int64  \n",
      " 21  thinning_suprapapillary_epidermis    292 non-null    int64  \n",
      " 22  spongiform_pustule                   292 non-null    int64  \n",
      " 23  munro_microabcess                    292 non-null    int64  \n",
      " 24  focal_hypergranulosis                292 non-null    int64  \n",
      " 25  disappearance_granular_layer         292 non-null    int64  \n",
      " 26  vacuolisation_damage_basal_layer     292 non-null    int64  \n",
      " 27  spongiosis                           292 non-null    int64  \n",
      " 28  saw_tooth_appearance_retes           292 non-null    int64  \n",
      " 29  follicular_horn_plug                 292 non-null    int64  \n",
      " 30  perifollicular_parakeratosis         292 non-null    int64  \n",
      " 31  inflammatory_mononuclear_infiltrate  292 non-null    int64  \n",
      " 32  band_like_infiltrate                 292 non-null    int64  \n",
      " 33  age                                  286 non-null    float64\n",
      "dtypes: float64(1), int64(33)\n",
      "memory usage: 87.9 KB\n"
     ]
    }
   ],
   "source": [
    "x_train.info()"
   ]
  },
  {
   "cell_type": "code",
   "execution_count": 14,
   "metadata": {
    "colab": {
     "base_uri": "https://localhost:8080/"
    },
    "id": "SNcXRA4tY2j7",
    "outputId": "4428a981-eb0d-4721-b98d-2ebf3550871e"
   },
   "outputs": [
    {
     "data": {
      "text/plain": [
       "6"
      ]
     },
     "execution_count": 14,
     "metadata": {},
     "output_type": "execute_result"
    }
   ],
   "source": [
    "x_train['age'].isnull().sum()"
   ]
  },
  {
   "cell_type": "markdown",
   "metadata": {
    "id": "iw6sVS-JMPsz"
   },
   "source": [
    "## Missing Value Handling - Numeric Data"
   ]
  },
  {
   "cell_type": "markdown",
   "metadata": {
    "id": "c-cSCcDMMPs0"
   },
   "source": [
    "###**Check Outlier**"
   ]
  },
  {
   "cell_type": "code",
   "execution_count": 15,
   "metadata": {
    "colab": {
     "base_uri": "https://localhost:8080/",
     "height": 430
    },
    "id": "tdanKX6XMPs0",
    "outputId": "ddabb272-2db2-459a-d675-4c3c8910a7c3"
   },
   "outputs": [
    {
     "data": {
      "image/png": "[encoded data removed]",
      "text/plain": [
       "<Figure size 640x480 with 1 Axes>"
      ]
     },
     "metadata": {},
     "output_type": "display_data"
    }
   ],
   "source": [
    "boxplot = x_train.boxplot(column=['age'])\n",
    "plt.show() # kalo no outlier dan normal dist mean | kalo ada outlier dan skewed pake median "
   ]
  },
  {
   "cell_type": "code",
   "execution_count": 16,
   "metadata": {
    "colab": {
     "base_uri": "https://localhost:8080/"
    },
    "id": "IIdUlcoiMPs0",
    "outputId": "4bc7ce46-30f5-4a7f-c1e3-2a6c2afdd3da"
   },
   "outputs": [
    {
     "name": "stdout",
     "output_type": "stream",
     "text": [
      "36.74825174825175\n"
     ]
    }
   ],
   "source": [
    "#Calculate Mean for age\n",
    "#Mean karna no outlier\n",
    "print(np.mean(x_train['age']))"
   ]
  },
  {
   "cell_type": "code",
   "execution_count": 17,
   "metadata": {
    "colab": {
     "base_uri": "https://localhost:8080/"
    },
    "id": "E37VkoDlMPs1",
    "outputId": "0f96990c-d1f8-4555-a00f-955641f7805c"
   },
   "outputs": [],
   "source": [
    "#Impute missing value with Mean\n",
    "x_train['age'].fillna(36.7, inplace=True) # true = update df ori\n",
    "x_test['age'].fillna(36.7, inplace=True)"
   ]
  },
  {
   "cell_type": "markdown",
   "metadata": {
    "id": "WWZRVb-wdYjs"
   },
   "source": [
    "# Building Model"
   ]
  },
  {
   "cell_type": "code",
   "execution_count": 18,
   "metadata": {
    "id": "-Jj5rJI4MPs2"
   },
   "outputs": [],
   "source": [
    "from sklearn.tree import DecisionTreeClassifier\n",
    "import warnings\n",
    "warnings.filterwarnings('ignore')\n",
    "\n",
    "DT_class = DecisionTreeClassifier()\n",
    "DT_class.fit(x_train, y_train)\n",
    "y_predict=DT_class.predict(x_test)\n",
    "# kalo ada categorical boolean dll harus encoding dulu\n",
    "\n",
    "# one hot encoding(fitur unik > 2)\n",
    "# ordinal encoding(ada urutan misal level easy med hard)\n",
    "# binary encoding(fitur unik = 2)\n"
   ]
  },
  {
   "cell_type": "code",
   "execution_count": 19,
   "metadata": {
    "colab": {
     "base_uri": "https://localhost:8080/"
    },
    "id": "hr0jsHikMPs2",
    "outputId": "ef626382-0b2e-4a4a-8cf3-8d719429781b"
   },
   "outputs": [
    {
     "name": "stdout",
     "output_type": "stream",
     "text": [
      "\n",
      "Classification Report\n",
      "\n",
      "              precision    recall  f1-score   support\n",
      "\n",
      "           1       0.83      1.00      0.91        15\n",
      "           2       0.92      0.86      0.89        14\n",
      "           3       0.94      0.94      0.94        16\n",
      "           4       0.86      1.00      0.92        12\n",
      "           5       1.00      1.00      1.00         9\n",
      "           6       1.00      0.50      0.67         8\n",
      "\n",
      "    accuracy                           0.91        74\n",
      "   macro avg       0.93      0.88      0.89        74\n",
      "weighted avg       0.91      0.91      0.90        74\n",
      "\n"
     ]
    }
   ],
   "source": [
    "from sklearn.metrics import classification_report\n",
    "print('\\nClassification Report\\n')\n",
    "print(classification_report(y_test, y_predict, target_names=['1','2','3','4','5','6']))"
   ]
  },
  {
   "cell_type": "markdown",
   "metadata": {
    "id": "Mn1pXohMMPs3"
   },
   "source": [
    "#Hyperparameter Tuning using GridSearchCV"
   ]
  },
  {
   "cell_type": "code",
   "execution_count": 20,
   "metadata": {
    "id": "qvF41RIGMPs3"
   },
   "outputs": [],
   "source": [
    "from sklearn.model_selection import GridSearchCV\n",
    "\n",
    "parameters = {\n",
    "    'criterion':['gini', 'entropy', 'log_loss'],\n",
    "    'max_depth':[2,4,6,8], #coba2 disini kyk adjust K di KNN\n",
    "    # coba2 depthn 2 4 6 8 karna blm tentu more or less better makanya coba2 dan cari yang palinbg bagus\n",
    "}"
   ]
  },
  {
   "cell_type": "code",
   "execution_count": 21,
   "metadata": {
    "id": "fSLyXEPeMPs3"
   },
   "outputs": [],
   "source": [
    "DT_class2 = DecisionTreeClassifier()\n",
    "DT_class2= GridSearchCV(DT_class2 ,\n",
    "                            param_grid = parameters,   # hyperparameters\n",
    "                            scoring='accuracy',        # metric for scoring\n",
    "                            cv=5) # 5 = dicoba 5 kali masing2 20% (ideal)\n",
    "#CROSS VALIDATION biar performa yang dilakukan ga bias makanya dicobain beda2 data test\n",
    "# testing < training"
   ]
  },
  {
   "cell_type": "code",
   "execution_count": 22,
   "metadata": {
    "colab": {
     "base_uri": "https://localhost:8080/"
    },
    "id": "nHwqCL-5MPs3",
    "outputId": "86ae963c-0c97-4515-cc6e-61cae6c4f483"
   },
   "outputs": [
    {
     "name": "stdout",
     "output_type": "stream",
     "text": [
      "Tuned Hyperparameters : {'criterion': 'entropy', 'max_depth': 8}\n",
      "Accuracy : 0.9555230859146698\n"
     ]
    }
   ],
   "source": [
    "DT_class2.fit(x_train,y_train)\n",
    "print(\"Tuned Hyperparameters :\", DT_class2.best_params_)\n",
    "print(\"Accuracy :\",DT_class2.best_score_)\n",
    "# kita akan meliohat aaccuracy dari data testingnya buat nguji supaya ga overfitting"
   ]
  },
  {
   "cell_type": "code",
   "execution_count": 23,
   "metadata": {
    "id": "LoNneRCaMPs4"
   },
   "outputs": [],
   "source": [
    "#Train the data using based parameter\n",
    "DT_class_best = DecisionTreeClassifier(criterion= 'gini',max_depth=8)"
   ]
  },
  {
   "cell_type": "markdown",
   "metadata": {},
   "source": []
  },
  {
   "cell_type": "code",
   "execution_count": 24,
   "metadata": {
    "colab": {
     "base_uri": "https://localhost:8080/",
     "height": 80
    },
    "id": "CKWX2ckAMPs4",
    "outputId": "0bf35a8e-20fd-4f2f-98bc-d3b80430637e"
   },
   "outputs": [
    {
     "data": {
      "text/html": [
       "<style>#sk-container-id-1 {color: black;}#sk-container-id-1 pre{padding: 0;}#sk-container-id-1 div.sk-toggleable {background-color: white;}#sk-container-id-1 label.sk-toggleable__label {cursor: pointer;display: block;width: 100%;margin-bottom: 0;padding: 0.3em;box-sizing: border-box;text-align: center;}#sk-container-id-1 label.sk-toggleable__label-arrow:before {content: \"▸\";float: left;margin-right: 0.25em;color: #696969;}#sk-container-id-1 label.sk-toggleable__label-arrow:hover:before {color: black;}#sk-container-id-1 div.sk-estimator:hover label.sk-toggleable__label-arrow:before {color: black;}#sk-container-id-1 div.sk-toggleable__content {max-height: 0;max-width: 0;overflow: hidden;text-align: left;background-color: #f0f8ff;}#sk-container-id-1 div.sk-toggleable__content pre {margin: 0.2em;color: black;border-radius: 0.25em;background-color: #f0f8ff;}#sk-container-id-1 input.sk-toggleable__control:checked~div.sk-toggleable__content {max-height: 200px;max-width: 100%;overflow: auto;}#sk-container-id-1 input.sk-toggleable__control:checked~label.sk-toggleable__label-arrow:before {content: \"▾\";}#sk-container-id-1 div.sk-estimator input.sk-toggleable__control:checked~label.sk-toggleable__label {background-color: #d4ebff;}#sk-container-id-1 div.sk-label input.sk-toggleable__control:checked~label.sk-toggleable__label {background-color: #d4ebff;}#sk-container-id-1 input.sk-hidden--visually {border: 0;clip: rect(1px 1px 1px 1px);clip: rect(1px, 1px, 1px, 1px);height: 1px;margin: -1px;overflow: hidden;padding: 0;position: absolute;width: 1px;}#sk-container-id-1 div.sk-estimator {font-family: monospace;background-color: #f0f8ff;border: 1px dotted black;border-radius: 0.25em;box-sizing: border-box;margin-bottom: 0.5em;}#sk-container-id-1 div.sk-estimator:hover {background-color: #d4ebff;}#sk-container-id-1 div.sk-parallel-item::after {content: \"\";width: 100%;border-bottom: 1px solid gray;flex-grow: 1;}#sk-container-id-1 div.sk-label:hover label.sk-toggleable__label {background-color: #d4ebff;}#sk-container-id-1 div.sk-serial::before {content: \"\";position: absolute;border-left: 1px solid gray;box-sizing: border-box;top: 0;bottom: 0;left: 50%;z-index: 0;}#sk-container-id-1 div.sk-serial {display: flex;flex-direction: column;align-items: center;background-color: white;padding-right: 0.2em;padding-left: 0.2em;position: relative;}#sk-container-id-1 div.sk-item {position: relative;z-index: 1;}#sk-container-id-1 div.sk-parallel {display: flex;align-items: stretch;justify-content: center;background-color: white;position: relative;}#sk-container-id-1 div.sk-item::before, #sk-container-id-1 div.sk-parallel-item::before {content: \"\";position: absolute;border-left: 1px solid gray;box-sizing: border-box;top: 0;bottom: 0;left: 50%;z-index: -1;}#sk-container-id-1 div.sk-parallel-item {display: flex;flex-direction: column;z-index: 1;position: relative;background-color: white;}#sk-container-id-1 div.sk-parallel-item:first-child::after {align-self: flex-end;width: 50%;}#sk-container-id-1 div.sk-parallel-item:last-child::after {align-self: flex-start;width: 50%;}#sk-container-id-1 div.sk-parallel-item:only-child::after {width: 0;}#sk-container-id-1 div.sk-dashed-wrapped {border: 1px dashed gray;margin: 0 0.4em 0.5em 0.4em;box-sizing: border-box;padding-bottom: 0.4em;background-color: white;}#sk-container-id-1 div.sk-label label {font-family: monospace;font-weight: bold;display: inline-block;line-height: 1.2em;}#sk-container-id-1 div.sk-label-container {text-align: center;}#sk-container-id-1 div.sk-container {/* jupyter's `normalize.less` sets `[hidden] { display: none; }` but bootstrap.min.css set `[hidden] { display: none !important; }` so we also need the `!important` here to be able to override the default hidden behavior on the sphinx rendered scikit-learn.org. See: https://github.com/scikit-learn/scikit-learn/issues/21755 */display: inline-block !important;position: relative;}#sk-container-id-1 div.sk-text-repr-fallback {display: none;}</style><div id=\"sk-container-id-1\" class=\"sk-top-container\"><div class=\"sk-text-repr-fallback\"><pre>DecisionTreeClassifier(max_depth=8)</pre><b>In a Jupyter environment, please rerun this cell to show the HTML representation or trust the notebook. <br />On GitHub, the HTML representation is unable to render, please try loading this page with nbviewer.org.</b></div><div class=\"sk-container\" hidden><div class=\"sk-item\"><div class=\"sk-estimator sk-toggleable\"><input class=\"sk-toggleable__control sk-hidden--visually\" id=\"sk-estimator-id-1\" type=\"checkbox\" checked><label for=\"sk-estimator-id-1\" class=\"sk-toggleable__label sk-toggleable__label-arrow\">DecisionTreeClassifier</label><div class=\"sk-toggleable__content\"><pre>DecisionTreeClassifier(max_depth=8)</pre></div></div></div></div></div>"
      ],
      "text/plain": [
       "DecisionTreeClassifier(max_depth=8)"
      ]
     },
     "execution_count": 24,
     "metadata": {},
     "output_type": "execute_result"
    }
   ],
   "source": [
    "DT_class_best.fit(x_train,y_train)"
   ]
  },
  {
   "cell_type": "code",
   "execution_count": 25,
   "metadata": {
    "id": "L8_FKSJlMPs4"
   },
   "outputs": [],
   "source": [
    "y_predict_best=DT_class_best.predict(x_test)"
   ]
  },
  {
   "cell_type": "code",
   "execution_count": null,
   "metadata": {
    "colab": {
     "base_uri": "https://localhost:8080/"
    },
    "id": "z_TdbYbYMPs5",
    "outputId": "dfe959a2-dded-4d46-dd61-dd468761e2f7"
   },
   "outputs": [
    {
     "name": "stdout",
     "output_type": "stream",
     "text": [
      "\n",
      "Classification Report\n",
      "\n",
      "              precision    recall  f1-score   support\n",
      "\n",
      "           1       0.79      1.00      0.88        15\n",
      "           2       0.92      0.86      0.89        14\n",
      "           3       0.94      0.94      0.94        16\n",
      "           4       0.86      1.00      0.92        12\n",
      "           5       1.00      0.89      0.94         9\n",
      "           6       1.00      0.50      0.67         8\n",
      "\n",
      "    accuracy                           0.89        74\n",
      "   macro avg       0.92      0.86      0.87        74\n",
      "weighted avg       0.91      0.89      0.89        74\n",
      "\n"
     ]
    },
    {
     "ename": "",
     "evalue": "",
     "output_type": "error",
     "traceback": [
      "\u001b[1;31mThe Kernel crashed while executing code in the current cell or a previous cell. \n",
      "\u001b[1;31mPlease review the code in the cell(s) to identify a possible cause of the failure. \n",
      "\u001b[1;31mClick <a href='https://aka.ms/vscodeJupyterKernelCrash'>here</a> for more info. \n",
      "\u001b[1;31mView Jupyter <a href='command:jupyter.viewOutput'>log</a> for further details."
     ]
    }
   ],
   "source": [
    "print('\\nClassification Report\\n')\n",
    "print(classification_report(y_test, y_predict_best, target_names=['1','2','3','4','5','6'])) # kelas dari target penyakit(1,2,3,4,5,6) dan hasil prediksi"
   ]
  },
  {
   "cell_type": "markdown",
   "metadata": {
    "id": "n7qBOk5WMPs5"
   },
   "source": [
    "**Thank You**"
   ]
  }
 ],
 "metadata": {
  "colab": {
   "provenance": []
  },
  "kernelspec": {
   "display_name": "base",
   "language": "python",
   "name": "python3"
  },
  "language_info": {
   "codemirror_mode": {
    "name": "ipython",
    "version": 3
   },
   "file_extension": ".py",
   "mimetype": "text/x-python",
   "name": "python",
   "nbconvert_exporter": "python",
   "pygments_lexer": "ipython3",
   "version": "3.11.4"
  }
 },
 "nbformat": 4,
 "nbformat_minor": 0
}
